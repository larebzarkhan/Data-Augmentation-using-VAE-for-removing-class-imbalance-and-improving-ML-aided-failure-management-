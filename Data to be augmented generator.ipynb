{
 "cells": [
  {
   "cell_type": "markdown",
   "id": "bb75c374",
   "metadata": {},
   "source": [
    "# <center> Data to be augmented generator"
   ]
  },
  {
   "cell_type": "markdown",
   "id": "2b6eeb3c",
   "metadata": {},
   "source": [
    "This part is similar to the starting part of Failure detection and failure classification notebooks. tHe only difference is here we are considering normal operation data as well, so what we'll be doing in Data Augmentation using VAE file is that we'll oversample the failure data of all classes up too the level of normal class. THen, we'll select only best required number of samples!\n",
    "\n",
    "\n",
    "- For detailed comments, refer to other three notebooks."
   ]
  },
  {
   "cell_type": "code",
   "execution_count": 1,
   "id": "c7dc9d23",
   "metadata": {},
   "outputs": [],
   "source": [
    "import pandas as pd\n",
    "from matplotlib import pyplot as plt\n",
    "import numpy as np\n",
    "%matplotlib inline  \n",
    "#will make plot outputs appear and be stored within the notebook.\n",
    "import random\n",
    "import tensorflow as tf\n",
    "from tensorflow import keras\n",
    "\n",
    "import warnings\n",
    "warnings.filterwarnings('ignore')"
   ]
  },
  {
   "cell_type": "code",
   "execution_count": 2,
   "id": "b2ec23e8",
   "metadata": {},
   "outputs": [],
   "source": [
    "import os\n",
    "SEED = 42\n",
    "\n",
    "os.environ['PYTHONHASHSEED'] =str(SEED)\n",
    "os.environ['TF_CUDNN_DETERMINISTIC'] = '1'\n",
    "\n",
    "random.seed(SEED)\n",
    "np.random.seed(SEED)\n",
    "tf.random.set_seed(SEED)"
   ]
  },
  {
   "cell_type": "code",
   "execution_count": 3,
   "id": "a5ae6014",
   "metadata": {},
   "outputs": [],
   "source": [
    "from sklearn.preprocessing import RobustScaler, MinMaxScaler\n",
    "scaler = MinMaxScaler()\n",
    "\n",
    "def get_normalized_final_dataset():\n",
    "    \n",
    "    df = pd.read_excel('New_data_combined.xlsx') # Dataset is now stored in a Pandas Dataframe#\n",
    "    df = df.sample(df.shape[0])   #shuffling\n",
    "    df.reset_index(drop = True , inplace = True)\n",
    "#     df = df.drop_duplicates()   #dropping duplicates\n",
    "    \n",
    "    cols_to_drop = ['A1_Pin' , 'A1_Pout' , 'A3_Pin' ,'A3_Pout' , 'A4_Pin', 'A4_Pout','CD', 'Q-Factor' , 'A2_Pout' ]\n",
    "    df.drop(cols_to_drop ,axis = 'columns', inplace = True)\n",
    "    \n",
    "#     cols_to_scale = ['OSNR', 'BER','A2_Pin' ]\n",
    "#     df[cols_to_scale] = scaler.fit_transform(df[cols_to_scale])\n",
    "    \n",
    "    return df"
   ]
  },
  {
   "cell_type": "code",
   "execution_count": 4,
   "id": "720c898c",
   "metadata": {},
   "outputs": [],
   "source": [
    "dataset = get_normalized_final_dataset()"
   ]
  },
  {
   "cell_type": "code",
   "execution_count": 5,
   "id": "fc1126a2",
   "metadata": {},
   "outputs": [
    {
     "data": {
      "text/plain": [
       "0    29998\n",
       "4     1000\n",
       "1     1000\n",
       "2      999\n",
       "3      999\n",
       "5      999\n",
       "Name: Failure_Type, dtype: int64"
      ]
     },
     "execution_count": 5,
     "metadata": {},
     "output_type": "execute_result"
    }
   ],
   "source": [
    "dataset.Failure_Type.value_counts()"
   ]
  },
  {
   "cell_type": "code",
   "execution_count": 6,
   "id": "f3ef30d7",
   "metadata": {},
   "outputs": [],
   "source": [
    "dataset.drop_duplicates(inplace = True)"
   ]
  },
  {
   "cell_type": "code",
   "execution_count": 7,
   "id": "5c05dc79",
   "metadata": {},
   "outputs": [
    {
     "data": {
      "text/plain": [
       "0    2514\n",
       "3     991\n",
       "5     325\n",
       "4     257\n",
       "1     224\n",
       "2     152\n",
       "Name: Failure_Type, dtype: int64"
      ]
     },
     "execution_count": 7,
     "metadata": {},
     "output_type": "execute_result"
    }
   ],
   "source": [
    "dataset.Failure_Type.value_counts()"
   ]
  },
  {
   "cell_type": "code",
   "execution_count": 8,
   "id": "c453b503",
   "metadata": {},
   "outputs": [],
   "source": [
    "from sklearn.model_selection import train_test_split\n",
    "\n",
    "def get_train_test_validation_data(df):\n",
    "    \n",
    "    X = df.drop('Failure_Type', axis = 'columns')\n",
    "    y = df['Failure_Type']\n",
    "    \n",
    "    X_train_val , X_test, y_train_val, y_test = train_test_split (X, y , test_size = 0.30, random_state = SEED , stratify = y)\n",
    "    X_train , X_val, y_train, y_val = train_test_split (X_train_val, y_train_val , test_size = 0.30, random_state = SEED , stratify = y_train_val)\n",
    "    \n",
    "    return X_train, y_train, X_test, y_test, X_val, y_val"
   ]
  },
  {
   "cell_type": "code",
   "execution_count": 9,
   "id": "917bc10a",
   "metadata": {},
   "outputs": [],
   "source": [
    "X_train, y_train, X_test, y_test, X_val, y_val = get_train_test_validation_data(dataset)"
   ]
  },
  {
   "cell_type": "code",
   "execution_count": 10,
   "id": "abb2a60f",
   "metadata": {},
   "outputs": [
    {
     "data": {
      "text/html": [
       "<div>\n",
       "<style scoped>\n",
       "    .dataframe tbody tr th:only-of-type {\n",
       "        vertical-align: middle;\n",
       "    }\n",
       "\n",
       "    .dataframe tbody tr th {\n",
       "        vertical-align: top;\n",
       "    }\n",
       "\n",
       "    .dataframe thead th {\n",
       "        text-align: right;\n",
       "    }\n",
       "</style>\n",
       "<table border=\"1\" class=\"dataframe\">\n",
       "  <thead>\n",
       "    <tr style=\"text-align: right;\">\n",
       "      <th></th>\n",
       "      <th>A2_Pin</th>\n",
       "      <th>OSNR</th>\n",
       "      <th>BER</th>\n",
       "      <th>Alarm</th>\n",
       "    </tr>\n",
       "  </thead>\n",
       "  <tbody>\n",
       "    <tr>\n",
       "      <th>25844</th>\n",
       "      <td>-23.3</td>\n",
       "      <td>23.8</td>\n",
       "      <td>2.200000e-07</td>\n",
       "      <td>0</td>\n",
       "    </tr>\n",
       "    <tr>\n",
       "      <th>12958</th>\n",
       "      <td>-24.8</td>\n",
       "      <td>19.9</td>\n",
       "      <td>4.570000e-05</td>\n",
       "      <td>1</td>\n",
       "    </tr>\n",
       "    <tr>\n",
       "      <th>2674</th>\n",
       "      <td>-23.7</td>\n",
       "      <td>23.2</td>\n",
       "      <td>6.610000e-07</td>\n",
       "      <td>0</td>\n",
       "    </tr>\n",
       "    <tr>\n",
       "      <th>15223</th>\n",
       "      <td>-25.7</td>\n",
       "      <td>20.5</td>\n",
       "      <td>9.590000e-06</td>\n",
       "      <td>1</td>\n",
       "    </tr>\n",
       "    <tr>\n",
       "      <th>10744</th>\n",
       "      <td>-23.4</td>\n",
       "      <td>23.4</td>\n",
       "      <td>2.410000e-07</td>\n",
       "      <td>0</td>\n",
       "    </tr>\n",
       "  </tbody>\n",
       "</table>\n",
       "</div>"
      ],
      "text/plain": [
       "       A2_Pin  OSNR           BER  Alarm\n",
       "25844   -23.3  23.8  2.200000e-07      0\n",
       "12958   -24.8  19.9  4.570000e-05      1\n",
       "2674    -23.7  23.2  6.610000e-07      0\n",
       "15223   -25.7  20.5  9.590000e-06      1\n",
       "10744   -23.4  23.4  2.410000e-07      0"
      ]
     },
     "execution_count": 10,
     "metadata": {},
     "output_type": "execute_result"
    }
   ],
   "source": [
    "X_train.head()"
   ]
  },
  {
   "cell_type": "code",
   "execution_count": 11,
   "id": "598ae597",
   "metadata": {},
   "outputs": [
    {
     "data": {
      "text/plain": [
       "(2186, 4)"
      ]
     },
     "execution_count": 11,
     "metadata": {},
     "output_type": "execute_result"
    }
   ],
   "source": [
    "X_train.shape"
   ]
  },
  {
   "cell_type": "code",
   "execution_count": 12,
   "id": "0e957dd2",
   "metadata": {},
   "outputs": [
    {
     "data": {
      "text/plain": [
       "0    1231\n",
       "3     486\n",
       "5     159\n",
       "4     126\n",
       "1     110\n",
       "2      74\n",
       "Name: Failure_Type, dtype: int64"
      ]
     },
     "execution_count": 12,
     "metadata": {},
     "output_type": "execute_result"
    }
   ],
   "source": [
    "y_train.value_counts()"
   ]
  },
  {
   "cell_type": "code",
   "execution_count": 13,
   "id": "d9aab856",
   "metadata": {},
   "outputs": [],
   "source": [
    "df_train = X_train.copy()\n",
    "df_train['Failure_Type'] = y_train.values"
   ]
  },
  {
   "cell_type": "code",
   "execution_count": 14,
   "id": "cf0e26b1",
   "metadata": {},
   "outputs": [
    {
     "data": {
      "text/html": [
       "<div>\n",
       "<style scoped>\n",
       "    .dataframe tbody tr th:only-of-type {\n",
       "        vertical-align: middle;\n",
       "    }\n",
       "\n",
       "    .dataframe tbody tr th {\n",
       "        vertical-align: top;\n",
       "    }\n",
       "\n",
       "    .dataframe thead th {\n",
       "        text-align: right;\n",
       "    }\n",
       "</style>\n",
       "<table border=\"1\" class=\"dataframe\">\n",
       "  <thead>\n",
       "    <tr style=\"text-align: right;\">\n",
       "      <th></th>\n",
       "      <th>A2_Pin</th>\n",
       "      <th>OSNR</th>\n",
       "      <th>BER</th>\n",
       "      <th>Alarm</th>\n",
       "      <th>Failure_Type</th>\n",
       "    </tr>\n",
       "  </thead>\n",
       "  <tbody>\n",
       "    <tr>\n",
       "      <th>25844</th>\n",
       "      <td>-23.3</td>\n",
       "      <td>23.8</td>\n",
       "      <td>2.200000e-07</td>\n",
       "      <td>0</td>\n",
       "      <td>0</td>\n",
       "    </tr>\n",
       "    <tr>\n",
       "      <th>12958</th>\n",
       "      <td>-24.8</td>\n",
       "      <td>19.9</td>\n",
       "      <td>4.570000e-05</td>\n",
       "      <td>1</td>\n",
       "      <td>1</td>\n",
       "    </tr>\n",
       "    <tr>\n",
       "      <th>2674</th>\n",
       "      <td>-23.7</td>\n",
       "      <td>23.2</td>\n",
       "      <td>6.610000e-07</td>\n",
       "      <td>0</td>\n",
       "      <td>0</td>\n",
       "    </tr>\n",
       "    <tr>\n",
       "      <th>15223</th>\n",
       "      <td>-25.7</td>\n",
       "      <td>20.5</td>\n",
       "      <td>9.590000e-06</td>\n",
       "      <td>1</td>\n",
       "      <td>5</td>\n",
       "    </tr>\n",
       "    <tr>\n",
       "      <th>10744</th>\n",
       "      <td>-23.4</td>\n",
       "      <td>23.4</td>\n",
       "      <td>2.410000e-07</td>\n",
       "      <td>0</td>\n",
       "      <td>0</td>\n",
       "    </tr>\n",
       "    <tr>\n",
       "      <th>1797</th>\n",
       "      <td>-23.7</td>\n",
       "      <td>23.0</td>\n",
       "      <td>7.470000e-07</td>\n",
       "      <td>0</td>\n",
       "      <td>0</td>\n",
       "    </tr>\n",
       "    <tr>\n",
       "      <th>7132</th>\n",
       "      <td>-23.7</td>\n",
       "      <td>23.2</td>\n",
       "      <td>7.040000e-07</td>\n",
       "      <td>0</td>\n",
       "      <td>0</td>\n",
       "    </tr>\n",
       "    <tr>\n",
       "      <th>627</th>\n",
       "      <td>-23.7</td>\n",
       "      <td>23.1</td>\n",
       "      <td>7.500000e-07</td>\n",
       "      <td>0</td>\n",
       "      <td>0</td>\n",
       "    </tr>\n",
       "    <tr>\n",
       "      <th>6555</th>\n",
       "      <td>-24.8</td>\n",
       "      <td>19.8</td>\n",
       "      <td>4.600000e-05</td>\n",
       "      <td>1</td>\n",
       "      <td>1</td>\n",
       "    </tr>\n",
       "    <tr>\n",
       "      <th>6292</th>\n",
       "      <td>-30.8</td>\n",
       "      <td>17.0</td>\n",
       "      <td>8.899290e-04</td>\n",
       "      <td>1</td>\n",
       "      <td>3</td>\n",
       "    </tr>\n",
       "  </tbody>\n",
       "</table>\n",
       "</div>"
      ],
      "text/plain": [
       "       A2_Pin  OSNR           BER  Alarm  Failure_Type\n",
       "25844   -23.3  23.8  2.200000e-07      0             0\n",
       "12958   -24.8  19.9  4.570000e-05      1             1\n",
       "2674    -23.7  23.2  6.610000e-07      0             0\n",
       "15223   -25.7  20.5  9.590000e-06      1             5\n",
       "10744   -23.4  23.4  2.410000e-07      0             0\n",
       "1797    -23.7  23.0  7.470000e-07      0             0\n",
       "7132    -23.7  23.2  7.040000e-07      0             0\n",
       "627     -23.7  23.1  7.500000e-07      0             0\n",
       "6555    -24.8  19.8  4.600000e-05      1             1\n",
       "6292    -30.8  17.0  8.899290e-04      1             3"
      ]
     },
     "execution_count": 14,
     "metadata": {},
     "output_type": "execute_result"
    }
   ],
   "source": [
    "df_train.head(10)"
   ]
  },
  {
   "cell_type": "code",
   "execution_count": 15,
   "id": "1e6ea1f9",
   "metadata": {},
   "outputs": [],
   "source": [
    "df_train.to_csv('Training_data_to_be_augmented_final.csv', index = False)"
   ]
  }
 ],
 "metadata": {
  "kernelspec": {
   "display_name": "Python 3 (ipykernel)",
   "language": "python",
   "name": "python3"
  },
  "language_info": {
   "codemirror_mode": {
    "name": "ipython",
    "version": 3
   },
   "file_extension": ".py",
   "mimetype": "text/x-python",
   "name": "python",
   "nbconvert_exporter": "python",
   "pygments_lexer": "ipython3",
   "version": "3.9.7"
  }
 },
 "nbformat": 4,
 "nbformat_minor": 5
}
