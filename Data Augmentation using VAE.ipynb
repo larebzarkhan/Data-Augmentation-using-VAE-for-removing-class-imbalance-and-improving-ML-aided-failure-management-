{
 "cells": [
  {
   "cell_type": "markdown",
   "id": "97a1362e",
   "metadata": {},
   "source": [
    "## <center> Data Augmentation using Variational Autoencoder (VAE)"
   ]
  },
  {
   "cell_type": "markdown",
   "id": "61acdae7",
   "metadata": {},
   "source": [
    "#### Importing required packages\n"
   ]
  },
  {
   "cell_type": "code",
   "execution_count": 1,
   "id": "1df26d1b",
   "metadata": {},
   "outputs": [],
   "source": [
    "import numpy as np\n",
    "import matplotlib.pyplot as plt\n",
    "\n",
    "import pandas as pd\n",
    "import tensorflow as tf\n",
    "from tensorflow import keras\n",
    "import keras.backend as K\n",
    "import random\n",
    "from keras.layers.advanced_activations import LeakyReLU\n",
    "from tensorflow.keras.layers import Input, Dense, Lambda, Dropout\n",
    "%matplotlib inline\n",
    "from tensorflow.keras.optimizers import Adam\n",
    "from keras.layers import BatchNormalization\n",
    "\n",
    "import warnings\n",
    "warnings.filterwarnings('ignore')"
   ]
  },
  {
   "cell_type": "markdown",
   "id": "4734fbf3",
   "metadata": {},
   "source": [
    "#### Following block of code controls randomness of Tensorflow and numpy."
   ]
  },
  {
   "cell_type": "code",
   "execution_count": 2,
   "id": "9e57176a",
   "metadata": {},
   "outputs": [],
   "source": [
    "import os\n",
    "SEED = 1\n",
    "\n",
    "os.environ['PYTHONHASHSEED'] =str(SEED)\n",
    "os.environ['TF_CUDNN_DETERMINISTIC'] = '1'\n",
    "\n",
    "random.seed(SEED)\n",
    "np.random.seed(SEED)\n",
    "tf.random.set_seed(SEED)\n",
    "# keras.backend.random.set_seed(SEED)"
   ]
  },
  {
   "cell_type": "markdown",
   "id": "9de0250c",
   "metadata": {},
   "source": [
    "Main Code starts here:\n",
    "\n",
    "Importing dataset as pandas dataframe AND normalizing it using MinMax Scaler."
   ]
  },
  {
   "cell_type": "code",
   "execution_count": 3,
   "id": "9119bcd4",
   "metadata": {},
   "outputs": [],
   "source": [
    "#This fucntion imports data from csv file and then returns normalized version of it.\n",
    "\n",
    "from sklearn.preprocessing import MinMaxScaler\n",
    "scaler = MinMaxScaler()\n",
    "\n",
    "cols_to_scale = ['A2_Pin', 'OSNR', 'BER']\n",
    "\n",
    "def get_dataset ():\n",
    "    df = pd.read_csv('Training_data_to_be_augmented_final.csv')\n",
    "    print('Shape of Dataset is : ', df.shape)\n",
    "    \n",
    "    df.drop_duplicates(inplace = True)   #dropping duplicates if any\n",
    "    \n",
    "    print('Shape of Dataset after dropping duplicates is : ', df.shape)\n",
    "    df[cols_to_scale] = scaler.fit_transform(df[cols_to_scale])  #scaling dataset using MinMax Scaler\n",
    "    \n",
    "    return df\n",
    "    "
   ]
  },
  {
   "cell_type": "markdown",
   "id": "cac7f4b8",
   "metadata": {},
   "source": [
    "For plotting dataset in 3D."
   ]
  },
  {
   "cell_type": "code",
   "execution_count": 4,
   "id": "a1fe4d10",
   "metadata": {},
   "outputs": [],
   "source": [
    "import plotly.express as px\n",
    "\n",
    "def plot_dataset(df):\n",
    "    fig = px.scatter_3d(df, x='BER', y='OSNR', z='A2_Pin', color= 'Failure_Type')\n",
    "    fig.show()"
   ]
  },
  {
   "cell_type": "markdown",
   "id": "18b13c6f",
   "metadata": {},
   "source": [
    "Calling function to get normalize dataset."
   ]
  },
  {
   "cell_type": "code",
   "execution_count": 5,
   "id": "0c9aaafe",
   "metadata": {},
   "outputs": [
    {
     "name": "stdout",
     "output_type": "stream",
     "text": [
      "Shape of Dataset is :  (2186, 5)\n",
      "Shape of Dataset after dropping duplicates is :  (2186, 5)\n"
     ]
    }
   ],
   "source": [
    "dataset = get_dataset()"
   ]
  },
  {
   "cell_type": "markdown",
   "id": "6ee9973f",
   "metadata": {},
   "source": [
    "Plotting OSNR and BER only to see if data is seperable in 2D or not."
   ]
  },
  {
   "cell_type": "code",
   "execution_count": 6,
   "id": "057c64b8",
   "metadata": {},
   "outputs": [
    {
     "data": {
      "image/png": "[encoded data removed]",
      "text/plain": [
       "<Figure size 1080x720 with 2 Axes>"
      ]
     },
     "metadata": {
      "needs_background": "light"
     },
     "output_type": "display_data"
    }
   ],
   "source": [
    "plt.figure(figsize=(15, 10))\n",
    "plt.scatter( dataset['OSNR'],  dataset['BER'], c= dataset['Failure_Type'])\n",
    "plt.xlabel('Dim-1')\n",
    "plt.ylabel('Dim-2')\n",
    "plt.colorbar()\n",
    "plt.show()"
   ]
  },
  {
   "cell_type": "markdown",
   "id": "98a28ed6",
   "metadata": {},
   "source": [
    "#### Splitting data between test and train data sets\n",
    "\n",
    "Note:\n",
    "\n",
    "i) stratify = y ensures that split has same proportion of all the classes as in the original data set.\n",
    "\n",
    "ii) y has labels of failure types i.e.,\n",
    "\n",
    "- Label-0: Normal Operation (BW = 36 GHz , Attenuation = 0 dB, fc = 192.300 THz)\n",
    "\n",
    "- Label-1: Filtering Effect (BW = 26 GHz , Attenuation = 0 dB, fc = 192.300 THz)\n",
    "\n",
    "- Label-2: Attenuation (BW = 36 GHz , Attenuation = 6 dB, fc = 192.300 THz)\n",
    "\n",
    "- Label-3: Attenuation + Filtering Effect (BW = 26 GHz , Attenuation = 6 dB, fc = 192.300 THz)\n",
    "\n",
    "- Label-4: Change in fc + Filtering Effect (BW = 26 GHz , Attenuation = 0 dB, fc = 192.320 THz)\n",
    "\n",
    "- Label-5: Change in fc (BW = 36 GHz , Attenuation = 0 dB, fc = 192.320 THz)\n",
    "\n",
    "The labels used for failure classification will be different. Normal data won't be considered so each failure type will have a modified label i.e., current label - 1. Moreover, normal data is considered here for oversampling because usually we have more normally data than failure data, so we'll be oversampling failure data up to the level of normal data and then to create a balance between all failure classes, only best samples will be selected. For more details, see ONFM (Failure Classification notebook)"
   ]
  },
  {
   "cell_type": "code",
   "execution_count": 7,
   "id": "7d32e2e9",
   "metadata": {},
   "outputs": [],
   "source": [
    "from sklearn.model_selection import train_test_split\n",
    "\n",
    "X = dataset.drop(['Failure_Type', 'Alarm'] , axis = 'columns') \n",
    "y = dataset['Failure_Type']\n",
    "\n",
    "def get_train_test_data(X,y):\n",
    "    x_train , x_test, y_train, y_test = train_test_split (X, y , test_size = 0.30, random_state = SEED , stratify = y)\n",
    "    print('Shape of x_train is ', x_train.shape)\n",
    "    print('Shape of x_test is ', x_test.shape)\n",
    "    return x_train , x_test, y_train, y_test\n"
   ]
  },
  {
   "cell_type": "code",
   "execution_count": 8,
   "id": "872db329",
   "metadata": {},
   "outputs": [
    {
     "name": "stdout",
     "output_type": "stream",
     "text": [
      "Shape of x_train is  (1530, 3)\n",
      "Shape of x_test is  (656, 3)\n"
     ]
    }
   ],
   "source": [
    "x_train , x_test, y_train, y_test = get_train_test_data(X,y)"
   ]
  },
  {
   "cell_type": "markdown",
   "id": "66abd831",
   "metadata": {},
   "source": [
    "Checking the distribution within overall data."
   ]
  },
  {
   "cell_type": "code",
   "execution_count": 9,
   "id": "c373b8e3",
   "metadata": {},
   "outputs": [
    {
     "data": {
      "text/plain": [
       "0    1231\n",
       "3     486\n",
       "5     159\n",
       "4     126\n",
       "1     110\n",
       "2      74\n",
       "Name: Failure_Type, dtype: int64"
      ]
     },
     "execution_count": 9,
     "metadata": {},
     "output_type": "execute_result"
    }
   ],
   "source": [
    "y.value_counts()"
   ]
  },
  {
   "cell_type": "markdown",
   "id": "e74611e7",
   "metadata": {},
   "source": [
    "### Variational AutoEncoder"
   ]
  },
  {
   "cell_type": "markdown",
   "id": "5a3f8982",
   "metadata": {},
   "source": [
    "#### Encoder of VAE"
   ]
  },
  {
   "cell_type": "markdown",
   "id": "581a9cec",
   "metadata": {},
   "source": [
    "Following block will be used for sampling to get z (sampled/latent) space. It will be employed as a layer using Lambda.\n",
    "\n",
    "- Sampling layer, that randomly samples mu and sigma to give z that is supposed to follow normal distribution,\n",
    "thanks to epsilon that follows normal distribution. This sampling approach is commonly known as reparameterization trick.\n"
   ]
  },
  {
   "cell_type": "code",
   "execution_count": 10,
   "id": "172d2360",
   "metadata": {},
   "outputs": [],
   "source": [
    "\n",
    "def sampling(args):\n",
    "  mean, logvar = args\n",
    "  eps = K.random_normal([latent_dim])\n",
    "  rnd_sam = mean + K.exp(logvar/2) * eps              #see, because of log we are using exp\n",
    "  return rnd_sam"
   ]
  },
  {
   "cell_type": "markdown",
   "id": "5b4418e8",
   "metadata": {},
   "source": [
    "#### Obervation : Why log_variance?\n",
    "\n",
    "Ans: By taking the logarithm of the variance, we force the network to have the output range of the natural numbers rather than just positive values (variances would only have positive values). This allows for smoother representations for the latent space.\n",
    "\n",
    "Source: https://towardsdatascience.com/reparameterization-trick-126062cfd3c3#:~:text=By%20taking%20the%20logarithm%20of,representations%20for%20the%20latent%20space.\n",
    "\n",
    "Detailed answer:\n",
    "It brings stability and ease of training. by definition sigma has to be a positive real number. one way to enforce this would be to use a ReLU funtion to obtain its value, but the gradient is not well defined around zero. in addition, the standard deviation values are usually very small 1>>sigma>0. the optimization has to work with very small numbers, where the floating point arithmetic and the poorly defined gradient bring numerical instabilities.\n",
    "\n",
    "if you use the log transform, you map the numerically unstable very small numbers in [1,0] interval to [log(1), -inf], where you have a lot more space to work with. calculating log and exp are numerically stable and easy, so you basically gain space where your optimization variable can move within."
   ]
  },
  {
   "cell_type": "markdown",
   "id": "99adc53c",
   "metadata": {},
   "source": [
    "#### Following block implements loss function for VAE which was quite different from classical Autoencoder.\n",
    "\n",
    "Losses to minimize during training of a VAE:\n",
    "\n",
    "i) Reconstruction loss: That tries to prevent overlapping of distributions of classes within dataset. It is usually mean squared error and it is same as in classical autoencoder.\n",
    "\n",
    "ii) KL-Divergence loss: Comes from relative entropy between normal and gaussian distribution and its purpose is to force a normal distribution on the latent distribution. If a latent distribution does not follow a normal distribution then it results in high value of KL-loss.\n",
    "\n",
    "Note: axis = -1 performs operation on only last dimension of a tensor.\n",
    "\n",
    "\n"
   ]
  },
  {
   "cell_type": "code",
   "execution_count": 11,
   "id": "c0a6098e",
   "metadata": {},
   "outputs": [],
   "source": [
    "def loss_func(z_mean, z_logvar):\n",
    "\n",
    "    ## Reconstruction loss\n",
    "\n",
    "    def vae_reconstruction_loss(y_true, y_predict):\n",
    "        reconstruction_loss_factor = 10       #because reconstruction loss itself can be very small so using a scaling factor\n",
    "        reconstruction_loss  = keras.metrics.binary_crossentropy(y_true, y_predict)  \n",
    "        return reconstruction_loss * reconstruction_loss_factor\n",
    "\n",
    "    ## KL-divergence loss\n",
    "    \n",
    "    def vae_kl_loss(z_mean, z_logvar):\n",
    "        kl_loss = -0.5 * K.sum(1.0 + z_logvar - K.square(z_mean) - K.exp(z_logvar), axis= -1)   \n",
    "        return kl_loss\n",
    "\n",
    "    ## Overall loss of VAE\n",
    "    \n",
    "    def vae_loss(y_true, y_predict):\n",
    "        reconstruction_loss = vae_reconstruction_loss(y_true, y_predict)\n",
    "        kl_loss = vae_kl_loss(y_true, y_predict)\n",
    "        loss = reconstruction_loss + kl_loss   ## mean can also be used\n",
    "        return loss\n",
    "\n",
    "    return vae_loss"
   ]
  },
  {
   "cell_type": "markdown",
   "id": "95f2214c",
   "metadata": {},
   "source": [
    "Following block of code return a trained VAE, encoder, decoder and sampling layer all are implemented in this block."
   ]
  },
  {
   "cell_type": "markdown",
   "id": "03745422",
   "metadata": {},
   "source": [
    "- Validation loss will be used as a training stopping criteria! If no more change, stop the training!"
   ]
  },
  {
   "cell_type": "code",
   "execution_count": 12,
   "id": "a9cb679a",
   "metadata": {},
   "outputs": [],
   "source": [
    "latent_dim = 2\n",
    "\n",
    "def get_trained_VAE(x_train, x_test):\n",
    "    \n",
    "    #Encoder part\n",
    "    enc_input = Input(shape=(x_train.shape[1], ), name='encoder input')   #input layer\n",
    "    x = Dense(4, activation ='relu')(enc_input)       #first hidden layer\n",
    "#     x = LeakyReLU(alpha=0.25)(x)\n",
    "#     x = BatchNormalization(momentum=0.8)(x)\n",
    "#     x = Dense(5, activation ='elu')(x)\n",
    "#     x = Dense(3, activation ='elu')(x)\n",
    "#     x = LeakyReLU(alpha=0.3)(x)\n",
    "#     x = BatchNormalization(momentum=0.8)(x)\n",
    "#     x = Dropout(0.2)(x)\n",
    "#     x = Dense(3)(x)\n",
    "#     x = LeakyReLU(alpha=0.2)(x)\n",
    "    \n",
    "    ## Mean and variance layers\n",
    "    \n",
    "    z_mean = Dense(latent_dim, name='z_mean')(x)   #Mean values of encoded/compressed input and it should have same dimensions as latent space (weights will be learned during training)\n",
    "    z_logvar = Dense(latent_dim, name='z_logvar')(x)  #Std dev. (variance) of encoded input/compressed input and it should have same dimensions as latent space (weights will be learned during training)\n",
    "\n",
    "    #Lambda Wraps arbitrary expressions as a Layer object, here it is sampling function.\n",
    "    #Z won't be trained during training phase, only z_mu and z_sigma will be trained\n",
    "\n",
    "    z = Lambda(sampling, output_shape=latent_dim, name='latent-space')([z_mean, z_logvar])\n",
    "    \n",
    "    ## Binding layers of encoder\n",
    "    encoder = keras.Model(enc_input, z, name='encoder')\n",
    "    print('Summary of Encoder:\\n')\n",
    "    encoder.summary()\n",
    "    \n",
    "    ## Decoder part\n",
    "    \n",
    "    decoder = build_generator()    #The function in following block of code returns decoder part of VAE\n",
    "    print('Summary of Decoder:\\n')\n",
    "    decoder.summary()\n",
    "    \n",
    "    ### Binding encoder and decoder to form a VAE\n",
    "    \n",
    "    enc_output = encoder(enc_input)\n",
    "    dec_output = decoder(enc_output)\n",
    "\n",
    "    vae = keras.Model(enc_input, dec_output, name='VAE')\n",
    "    print('Summary of VAE:\\n')\n",
    "    vae.summary()\n",
    "    \n",
    "    ## VAE is defined up till this point. THe next step is to train this VAE.\n",
    "    \n",
    "    #Hyperparameters are chosen with error and trial method (multiple trials)\n",
    "    \n",
    "    opt = keras.optimizers.Adam(learning_rate=0.0079 , beta_1 = 0.4)   #using adam optimizer\n",
    "    \n",
    "    vae.compile(optimizer=opt, loss=loss_func(z_mean, z_logvar))    #compiling VAE\n",
    "    \n",
    "    # Training autoencoder\n",
    "    \n",
    "    early_stopping = keras.callbacks.EarlyStopping(monitor = 'val_loss' , patience = 5 , mode ='min', restore_best_weights = True)\n",
    "    vae.fit(x_train, x_train , epochs = 500, batch_size = 8, validation_data=(x_test, x_test),  callbacks =[early_stopping])\n",
    "\n",
    "    return vae, encoder, decoder"
   ]
  },
  {
   "cell_type": "code",
   "execution_count": 13,
   "id": "d59e5fa5",
   "metadata": {},
   "outputs": [],
   "source": [
    "##Decoder and Generator\n",
    "\n",
    "def build_generator():\n",
    "\n",
    "  noise_shape = (latent_dim,)\n",
    "  dec_input = Input(shape = noise_shape, name='decoder_input')\n",
    "  y = Dense(4, activation ='relu')(dec_input)\n",
    "#   y = BatchNormalization(momentum=0.8)(y)\n",
    "#   y = Dense(5, activation ='elu')(y)\n",
    "#   y = LeakyReLU(alpha=0.25)(y)\n",
    "#   y = BatchNormalization(momentum=0.8)(y)\n",
    "#   y = Dropout(0.1)(y)\n",
    "#   y = Dense(4, activation ='elu')(y)\n",
    "#   y = Dropout(0.2)(y)\n",
    "#   y = LeakyReLU(alpha=0.3)(y)\n",
    "#   y = BatchNormalization(momentum=0.8)(y)\n",
    "  y = Dense(x_train.shape[1], activation= 'sigmoid')(y)  #check it later on\n",
    " \n",
    "  return keras.Model(dec_input, y, name='decoder')\n"
   ]
  },
  {
   "cell_type": "markdown",
   "id": "14ae352d",
   "metadata": {},
   "source": [
    "Calling get_trained_VAE function to get trained encoder, decoder and complete VAE."
   ]
  },
  {
   "cell_type": "code",
   "execution_count": 14,
   "id": "a87858bc",
   "metadata": {
    "scrolled": false
   },
   "outputs": [
    {
     "name": "stdout",
     "output_type": "stream",
     "text": [
      "Summary of Encoder:\n",
      "\n",
      "Model: \"encoder\"\n",
      "__________________________________________________________________________________________________\n",
      " Layer (type)                   Output Shape         Param #     Connected to                     \n",
      "==================================================================================================\n",
      " encoder input (InputLayer)     [(None, 3)]          0           []                               \n",
      "                                                                                                  \n",
      " dense (Dense)                  (None, 4)            16          ['encoder input[0][0]']          \n",
      "                                                                                                  \n",
      " z_mean (Dense)                 (None, 2)            10          ['dense[0][0]']                  \n",
      "                                                                                                  \n",
      " z_logvar (Dense)               (None, 2)            10          ['dense[0][0]']                  \n",
      "                                                                                                  \n",
      " latent-space (Lambda)          (None, 2)            0           ['z_mean[0][0]',                 \n",
      "                                                                  'z_logvar[0][0]']               \n",
      "                                                                                                  \n",
      "==================================================================================================\n",
      "Total params: 36\n",
      "Trainable params: 36\n",
      "Non-trainable params: 0\n",
      "__________________________________________________________________________________________________\n",
      "Summary of Decoder:\n",
      "\n",
      "Model: \"decoder\"\n",
      "_________________________________________________________________\n",
      " Layer (type)                Output Shape              Param #   \n",
      "=================================================================\n",
      " decoder_input (InputLayer)  [(None, 2)]               0         \n",
      "                                                                 \n",
      " dense_1 (Dense)             (None, 4)                 12        \n",
      "                                                                 \n",
      " dense_2 (Dense)             (None, 3)                 15        \n",
      "                                                                 \n",
      "=================================================================\n",
      "Total params: 27\n",
      "Trainable params: 27\n",
      "Non-trainable params: 0\n",
      "_________________________________________________________________\n",
      "Summary of VAE:\n",
      "\n",
      "Model: \"VAE\"\n",
      "_________________________________________________________________\n",
      " Layer (type)                Output Shape              Param #   \n",
      "=================================================================\n",
      " encoder input (InputLayer)  [(None, 3)]               0         \n",
      "                                                                 \n",
      " encoder (Functional)        (None, 2)                 36        \n",
      "                                                                 \n",
      " decoder (Functional)        (None, 3)                 27        \n",
      "                                                                 \n",
      "=================================================================\n",
      "Total params: 63\n",
      "Trainable params: 63\n",
      "Non-trainable params: 0\n",
      "_________________________________________________________________\n",
      "Epoch 1/500\n",
      "192/192 [==============================] - 4s 9ms/step - loss: 5.2611 - val_loss: 3.4725\n",
      "Epoch 2/500\n",
      "192/192 [==============================] - 1s 8ms/step - loss: 3.4014 - val_loss: 3.3339\n",
      "Epoch 3/500\n",
      "192/192 [==============================] - 2s 8ms/step - loss: 3.2974 - val_loss: 3.2629\n",
      "Epoch 4/500\n",
      "192/192 [==============================] - 2s 9ms/step - loss: 3.2613 - val_loss: 3.2560\n",
      "Epoch 5/500\n",
      "192/192 [==============================] - 2s 9ms/step - loss: 3.2551 - val_loss: 3.2447\n",
      "Epoch 6/500\n",
      "192/192 [==============================] - 2s 10ms/step - loss: 3.2513 - val_loss: 3.2474\n",
      "Epoch 7/500\n",
      "192/192 [==============================] - 2s 10ms/step - loss: 3.2489 - val_loss: 3.2456\n",
      "Epoch 8/500\n",
      "192/192 [==============================] - 2s 10ms/step - loss: 3.2456 - val_loss: 3.2393\n",
      "Epoch 9/500\n",
      "192/192 [==============================] - 2s 9ms/step - loss: 3.2449 - val_loss: 3.2384\n",
      "Epoch 10/500\n",
      "192/192 [==============================] - 2s 10ms/step - loss: 3.2436 - val_loss: 3.2401\n",
      "Epoch 11/500\n",
      "192/192 [==============================] - 2s 9ms/step - loss: 3.2398 - val_loss: 3.2674\n",
      "Epoch 12/500\n",
      "192/192 [==============================] - 2s 9ms/step - loss: 3.2376 - val_loss: 3.2543\n",
      "Epoch 13/500\n",
      "192/192 [==============================] - 1s 8ms/step - loss: 3.2356 - val_loss: 3.3430\n",
      "Epoch 14/500\n",
      "192/192 [==============================] - 2s 8ms/step - loss: 3.2345 - val_loss: 3.2350\n",
      "Epoch 15/500\n",
      "192/192 [==============================] - 1s 7ms/step - loss: 3.2298 - val_loss: 3.2616\n",
      "Epoch 16/500\n",
      "192/192 [==============================] - 1s 7ms/step - loss: 3.2283 - val_loss: 3.2279\n",
      "Epoch 17/500\n",
      "192/192 [==============================] - 1s 6ms/step - loss: 3.2266 - val_loss: 3.2361\n",
      "Epoch 18/500\n",
      "192/192 [==============================] - 1s 7ms/step - loss: 3.2251 - val_loss: 3.2240\n",
      "Epoch 19/500\n",
      "192/192 [==============================] - 1s 8ms/step - loss: 3.2238 - val_loss: 3.2155\n",
      "Epoch 20/500\n",
      "192/192 [==============================] - 2s 8ms/step - loss: 3.2218 - val_loss: 3.2147\n",
      "Epoch 21/500\n",
      "192/192 [==============================] - 2s 8ms/step - loss: 3.2206 - val_loss: 3.2172\n",
      "Epoch 22/500\n",
      "192/192 [==============================] - 2s 9ms/step - loss: 3.2195 - val_loss: 3.2317\n",
      "Epoch 23/500\n",
      "192/192 [==============================] - 2s 9ms/step - loss: 3.2192 - val_loss: 3.2278\n",
      "Epoch 24/500\n",
      "192/192 [==============================] - 2s 9ms/step - loss: 3.2188 - val_loss: 3.2432\n",
      "Epoch 25/500\n",
      "192/192 [==============================] - 2s 9ms/step - loss: 3.2172 - val_loss: 3.2108\n",
      "Epoch 26/500\n",
      "192/192 [==============================] - 2s 9ms/step - loss: 3.2168 - val_loss: 3.2189\n",
      "Epoch 27/500\n",
      "192/192 [==============================] - 2s 9ms/step - loss: 3.2154 - val_loss: 3.2148\n",
      "Epoch 28/500\n",
      "192/192 [==============================] - 2s 9ms/step - loss: 3.2154 - val_loss: 3.2221\n",
      "Epoch 29/500\n",
      "192/192 [==============================] - 2s 10ms/step - loss: 3.2144 - val_loss: 3.2091\n",
      "Epoch 30/500\n",
      "192/192 [==============================] - 2s 9ms/step - loss: 3.2148 - val_loss: 3.2085\n",
      "Epoch 31/500\n",
      "192/192 [==============================] - 2s 9ms/step - loss: 3.2135 - val_loss: 3.2105\n",
      "Epoch 32/500\n",
      "192/192 [==============================] - 1s 7ms/step - loss: 3.2119 - val_loss: 3.2067\n",
      "Epoch 33/500\n",
      "192/192 [==============================] - 1s 7ms/step - loss: 3.2130 - val_loss: 3.2079\n",
      "Epoch 34/500\n",
      "192/192 [==============================] - 1s 7ms/step - loss: 3.2121 - val_loss: 3.2160\n",
      "Epoch 35/500\n",
      "192/192 [==============================] - 2s 8ms/step - loss: 3.2118 - val_loss: 3.2365\n",
      "Epoch 36/500\n",
      "192/192 [==============================] - 2s 8ms/step - loss: 3.2112 - val_loss: 3.2182\n",
      "Epoch 37/500\n",
      "192/192 [==============================] - 2s 8ms/step - loss: 3.2105 - val_loss: 3.2082\n"
     ]
    }
   ],
   "source": [
    "vae, encoder, decoder = get_trained_VAE(x_train, x_test)"
   ]
  },
  {
   "cell_type": "markdown",
   "id": "083e0bfb",
   "metadata": {},
   "source": [
    "As it can be seen that our model was not trained for all specified epochs, when osciallation/ no decrease in validation loss was observed training was stopped! To avoid overfitting!\n",
    "\n",
    "- If we see in a broader perspective, we do not need this model to predict data for future unseen samples! We are using it for augmentation! But still it is good to not have an overfitted model!"
   ]
  },
  {
   "cell_type": "markdown",
   "id": "038132b2",
   "metadata": {},
   "source": [
    "#### After our VAE is trained, we'll manipulate (i.e., oversample) latent space i.e., output of encoder (z-space)"
   ]
  },
  {
   "cell_type": "code",
   "execution_count": 15,
   "id": "67d521f8",
   "metadata": {},
   "outputs": [],
   "source": [
    "def get_sampled_latent_space(encoder, X):\n",
    "    sampled_latent_space  = pd.DataFrame(encoder.predict(X))\n",
    "    return sampled_latent_space"
   ]
  },
  {
   "cell_type": "code",
   "execution_count": 16,
   "id": "54d1a7e8",
   "metadata": {},
   "outputs": [],
   "source": [
    "def plot_latent_space(sampled_latent_space , y):\n",
    "    plt.figure(figsize=(15, 10))\n",
    "    plt.scatter(sampled_latent_space[0], sampled_latent_space[1], c= y)\n",
    "    plt.xlabel('Dim-1')\n",
    "    plt.ylabel('Dim-2')\n",
    "    plt.colorbar()\n",
    "    plt.show()"
   ]
  },
  {
   "cell_type": "markdown",
   "id": "8e44d833",
   "metadata": {},
   "source": [
    "In following two blocks of code, we'll sample latent space 10 times so that we can have 10 times more data of each class."
   ]
  },
  {
   "cell_type": "code",
   "execution_count": 17,
   "id": "88b0486d",
   "metadata": {},
   "outputs": [],
   "source": [
    "sampled_latent_space_for_multiple_iterations = get_sampled_latent_space(encoder, X).copy()\n",
    "sampled_latent_space_for_multiple_iterations['Failure_Type'] = y.values"
   ]
  },
  {
   "cell_type": "code",
   "execution_count": 18,
   "id": "2ca8f9b5",
   "metadata": {
    "scrolled": false
   },
   "outputs": [
    {
     "data": {
      "image/png": "[encoded data removed]",
      "text/plain": [
       "<Figure size 1080x720 with 2 Axes>"
      ]
     },
     "metadata": {
      "needs_background": "light"
     },
     "output_type": "display_data"
    }
   ],
   "source": [
    "for i in range(9):\n",
    "    sampled_latent_space = get_sampled_latent_space(encoder, X)\n",
    "    sampled_latent_space['Failure_Type'] = y.values\n",
    "    sampled_latent_space_for_multiple_iterations = pd.concat([sampled_latent_space_for_multiple_iterations,sampled_latent_space],  ignore_index=True)\n",
    "\n",
    "plot_latent_space(sampled_latent_space_for_multiple_iterations, sampled_latent_space_for_multiple_iterations['Failure_Type'])"
   ]
  },
  {
   "cell_type": "code",
   "execution_count": 19,
   "id": "d5215fdb",
   "metadata": {},
   "outputs": [
    {
     "data": {
      "text/plain": [
       "0    12310\n",
       "3     4860\n",
       "5     1590\n",
       "4     1260\n",
       "1     1100\n",
       "2      740\n",
       "Name: Failure_Type, dtype: int64"
      ]
     },
     "execution_count": 19,
     "metadata": {},
     "output_type": "execute_result"
    }
   ],
   "source": [
    "sampled_latent_space_for_multiple_iterations['Failure_Type'].value_counts()"
   ]
  },
  {
   "cell_type": "markdown",
   "id": "3e4e3860",
   "metadata": {},
   "source": [
    "Follwing block of code, decodes latent space and provide scaled and unscaled output of decoder i.e., our reconstructed samples."
   ]
  },
  {
   "cell_type": "code",
   "execution_count": 20,
   "id": "1a3e1de1",
   "metadata": {},
   "outputs": [],
   "source": [
    "def get_decoded_latent_space (latent_space, x_test):\n",
    "    oversampled_latent_space_decoded  = pd.DataFrame(decoder.predict(latent_space))\n",
    "    oversampled_latent_space_decoded_descaled = pd.DataFrame(scaler.inverse_transform(oversampled_latent_space_decoded))\n",
    "    oversampled_latent_space_decoded_descaled.columns = x_test.columns\n",
    "    oversampled_latent_space_decoded.columns = x_test.columns\n",
    "    \n",
    "    return oversampled_latent_space_decoded, oversampled_latent_space_decoded_descaled"
   ]
  },
  {
   "cell_type": "code",
   "execution_count": 21,
   "id": "97796679",
   "metadata": {},
   "outputs": [],
   "source": [
    "oversampled_latent_space_decoded, oversampled_latent_space_decoded_descaled = get_decoded_latent_space (sampled_latent_space_for_multiple_iterations.drop('Failure_Type' , axis = 'columns'),x_test)"
   ]
  },
  {
   "cell_type": "code",
   "execution_count": 22,
   "id": "6a72d1c8",
   "metadata": {},
   "outputs": [
    {
     "data": {
      "text/html": [
       "<div>\n",
       "<style scoped>\n",
       "    .dataframe tbody tr th:only-of-type {\n",
       "        vertical-align: middle;\n",
       "    }\n",
       "\n",
       "    .dataframe tbody tr th {\n",
       "        vertical-align: top;\n",
       "    }\n",
       "\n",
       "    .dataframe thead th {\n",
       "        text-align: right;\n",
       "    }\n",
       "</style>\n",
       "<table border=\"1\" class=\"dataframe\">\n",
       "  <thead>\n",
       "    <tr style=\"text-align: right;\">\n",
       "      <th></th>\n",
       "      <th>A2_Pin</th>\n",
       "      <th>OSNR</th>\n",
       "      <th>BER</th>\n",
       "    </tr>\n",
       "  </thead>\n",
       "  <tbody>\n",
       "    <tr>\n",
       "      <th>0</th>\n",
       "      <td>0.987438</td>\n",
       "      <td>0.923637</td>\n",
       "      <td>0.000115</td>\n",
       "    </tr>\n",
       "    <tr>\n",
       "      <th>1</th>\n",
       "      <td>0.768368</td>\n",
       "      <td>0.397319</td>\n",
       "      <td>0.041317</td>\n",
       "    </tr>\n",
       "    <tr>\n",
       "      <th>2</th>\n",
       "      <td>0.955204</td>\n",
       "      <td>0.837275</td>\n",
       "      <td>0.000422</td>\n",
       "    </tr>\n",
       "    <tr>\n",
       "      <th>3</th>\n",
       "      <td>0.661060</td>\n",
       "      <td>0.456931</td>\n",
       "      <td>0.017127</td>\n",
       "    </tr>\n",
       "    <tr>\n",
       "      <th>4</th>\n",
       "      <td>0.977467</td>\n",
       "      <td>0.884095</td>\n",
       "      <td>0.000248</td>\n",
       "    </tr>\n",
       "  </tbody>\n",
       "</table>\n",
       "</div>"
      ],
      "text/plain": [
       "     A2_Pin      OSNR       BER\n",
       "0  0.987438  0.923637  0.000115\n",
       "1  0.768368  0.397319  0.041317\n",
       "2  0.955204  0.837275  0.000422\n",
       "3  0.661060  0.456931  0.017127\n",
       "4  0.977467  0.884095  0.000248"
      ]
     },
     "execution_count": 22,
     "metadata": {},
     "output_type": "execute_result"
    }
   ],
   "source": [
    "oversampled_latent_space_decoded.head(5)"
   ]
  },
  {
   "cell_type": "code",
   "execution_count": 23,
   "id": "cfcbe996",
   "metadata": {},
   "outputs": [
    {
     "data": {
      "text/html": [
       "<div>\n",
       "<style scoped>\n",
       "    .dataframe tbody tr th:only-of-type {\n",
       "        vertical-align: middle;\n",
       "    }\n",
       "\n",
       "    .dataframe tbody tr th {\n",
       "        vertical-align: top;\n",
       "    }\n",
       "\n",
       "    .dataframe thead th {\n",
       "        text-align: right;\n",
       "    }\n",
       "</style>\n",
       "<table border=\"1\" class=\"dataframe\">\n",
       "  <thead>\n",
       "    <tr style=\"text-align: right;\">\n",
       "      <th></th>\n",
       "      <th>A2_Pin</th>\n",
       "      <th>OSNR</th>\n",
       "      <th>BER</th>\n",
       "    </tr>\n",
       "  </thead>\n",
       "  <tbody>\n",
       "    <tr>\n",
       "      <th>13585</th>\n",
       "      <td>-23.437082</td>\n",
       "      <td>23.483053</td>\n",
       "      <td>3.245920e-07</td>\n",
       "    </tr>\n",
       "    <tr>\n",
       "      <th>484</th>\n",
       "      <td>-23.408783</td>\n",
       "      <td>23.603039</td>\n",
       "      <td>2.775475e-07</td>\n",
       "    </tr>\n",
       "    <tr>\n",
       "      <th>6113</th>\n",
       "      <td>-23.438629</td>\n",
       "      <td>23.477442</td>\n",
       "      <td>3.268755e-07</td>\n",
       "    </tr>\n",
       "    <tr>\n",
       "      <th>168</th>\n",
       "      <td>-24.988161</td>\n",
       "      <td>19.600969</td>\n",
       "      <td>4.906304e-05</td>\n",
       "    </tr>\n",
       "    <tr>\n",
       "      <th>1892</th>\n",
       "      <td>-24.993174</td>\n",
       "      <td>19.749180</td>\n",
       "      <td>3.811069e-05</td>\n",
       "    </tr>\n",
       "    <tr>\n",
       "      <th>565</th>\n",
       "      <td>-30.799381</td>\n",
       "      <td>16.953817</td>\n",
       "      <td>8.944750e-04</td>\n",
       "    </tr>\n",
       "    <tr>\n",
       "      <th>945</th>\n",
       "      <td>-23.759970</td>\n",
       "      <td>22.664221</td>\n",
       "      <td>8.274600e-07</td>\n",
       "    </tr>\n",
       "    <tr>\n",
       "      <th>13966</th>\n",
       "      <td>-23.671337</td>\n",
       "      <td>22.888102</td>\n",
       "      <td>6.366301e-07</td>\n",
       "    </tr>\n",
       "    <tr>\n",
       "      <th>10804</th>\n",
       "      <td>-23.646925</td>\n",
       "      <td>22.986513</td>\n",
       "      <td>5.563510e-07</td>\n",
       "    </tr>\n",
       "    <tr>\n",
       "      <th>14345</th>\n",
       "      <td>-23.834850</td>\n",
       "      <td>22.430794</td>\n",
       "      <td>1.102581e-06</td>\n",
       "    </tr>\n",
       "  </tbody>\n",
       "</table>\n",
       "</div>"
      ],
      "text/plain": [
       "          A2_Pin       OSNR           BER\n",
       "13585 -23.437082  23.483053  3.245920e-07\n",
       "484   -23.408783  23.603039  2.775475e-07\n",
       "6113  -23.438629  23.477442  3.268755e-07\n",
       "168   -24.988161  19.600969  4.906304e-05\n",
       "1892  -24.993174  19.749180  3.811069e-05\n",
       "565   -30.799381  16.953817  8.944750e-04\n",
       "945   -23.759970  22.664221  8.274600e-07\n",
       "13966 -23.671337  22.888102  6.366301e-07\n",
       "10804 -23.646925  22.986513  5.563510e-07\n",
       "14345 -23.834850  22.430794  1.102581e-06"
      ]
     },
     "execution_count": 23,
     "metadata": {},
     "output_type": "execute_result"
    }
   ],
   "source": [
    "oversampled_latent_space_decoded_descaled.sample(10)"
   ]
  },
  {
   "cell_type": "code",
   "execution_count": 24,
   "id": "733e5fc1",
   "metadata": {},
   "outputs": [
    {
     "data": {
      "text/html": [
       "<div>\n",
       "<style scoped>\n",
       "    .dataframe tbody tr th:only-of-type {\n",
       "        vertical-align: middle;\n",
       "    }\n",
       "\n",
       "    .dataframe tbody tr th {\n",
       "        vertical-align: top;\n",
       "    }\n",
       "\n",
       "    .dataframe thead th {\n",
       "        text-align: right;\n",
       "    }\n",
       "</style>\n",
       "<table border=\"1\" class=\"dataframe\">\n",
       "  <thead>\n",
       "    <tr style=\"text-align: right;\">\n",
       "      <th></th>\n",
       "      <th>A2_Pin</th>\n",
       "      <th>OSNR</th>\n",
       "      <th>BER</th>\n",
       "    </tr>\n",
       "  </thead>\n",
       "  <tbody>\n",
       "    <tr>\n",
       "      <th>count</th>\n",
       "      <td>21860.000000</td>\n",
       "      <td>21860.000000</td>\n",
       "      <td>2.186000e+04</td>\n",
       "    </tr>\n",
       "    <tr>\n",
       "      <th>mean</th>\n",
       "      <td>-25.896223</td>\n",
       "      <td>21.005844</td>\n",
       "      <td>2.055574e-04</td>\n",
       "    </tr>\n",
       "    <tr>\n",
       "      <th>std</th>\n",
       "      <td>3.019355</td>\n",
       "      <td>2.553649</td>\n",
       "      <td>3.674641e-04</td>\n",
       "    </tr>\n",
       "    <tr>\n",
       "      <th>min</th>\n",
       "      <td>-30.799549</td>\n",
       "      <td>16.939388</td>\n",
       "      <td>2.201305e-07</td>\n",
       "    </tr>\n",
       "    <tr>\n",
       "      <th>25%</th>\n",
       "      <td>-29.577672</td>\n",
       "      <td>19.351687</td>\n",
       "      <td>5.528721e-07</td>\n",
       "    </tr>\n",
       "    <tr>\n",
       "      <th>50%</th>\n",
       "      <td>-23.794663</td>\n",
       "      <td>22.548999</td>\n",
       "      <td>9.543409e-07</td>\n",
       "    </tr>\n",
       "    <tr>\n",
       "      <th>75%</th>\n",
       "      <td>-23.628304</td>\n",
       "      <td>23.002164</td>\n",
       "      <td>5.040668e-05</td>\n",
       "    </tr>\n",
       "    <tr>\n",
       "      <th>max</th>\n",
       "      <td>-23.366119</td>\n",
       "      <td>23.789015</td>\n",
       "      <td>8.993302e-04</td>\n",
       "    </tr>\n",
       "  </tbody>\n",
       "</table>\n",
       "</div>"
      ],
      "text/plain": [
       "             A2_Pin          OSNR           BER\n",
       "count  21860.000000  21860.000000  2.186000e+04\n",
       "mean     -25.896223     21.005844  2.055574e-04\n",
       "std        3.019355      2.553649  3.674641e-04\n",
       "min      -30.799549     16.939388  2.201305e-07\n",
       "25%      -29.577672     19.351687  5.528721e-07\n",
       "50%      -23.794663     22.548999  9.543409e-07\n",
       "75%      -23.628304     23.002164  5.040668e-05\n",
       "max      -23.366119     23.789015  8.993302e-04"
      ]
     },
     "execution_count": 24,
     "metadata": {},
     "output_type": "execute_result"
    }
   ],
   "source": [
    "oversampled_latent_space_decoded_descaled.describe()"
   ]
  },
  {
   "cell_type": "code",
   "execution_count": 25,
   "id": "c235d04a",
   "metadata": {},
   "outputs": [
    {
     "data": {
      "image/png": "[encoded data removed]",
      "text/plain": [
       "<Figure size 432x288 with 1 Axes>"
      ]
     },
     "metadata": {
      "needs_background": "light"
     },
     "output_type": "display_data"
    }
   ],
   "source": [
    "plt.hist(oversampled_latent_space_decoded_descaled['A2_Pin'], bins = 75)\n",
    "plt.show()"
   ]
  },
  {
   "cell_type": "markdown",
   "id": "162fdf76",
   "metadata": {},
   "source": [
    "Adding other features to ensure uniformity with the actual data."
   ]
  },
  {
   "cell_type": "code",
   "execution_count": 26,
   "id": "5e0d9a6e",
   "metadata": {},
   "outputs": [
    {
     "data": {
      "text/html": [
       "<div>\n",
       "<style scoped>\n",
       "    .dataframe tbody tr th:only-of-type {\n",
       "        vertical-align: middle;\n",
       "    }\n",
       "\n",
       "    .dataframe tbody tr th {\n",
       "        vertical-align: top;\n",
       "    }\n",
       "\n",
       "    .dataframe thead th {\n",
       "        text-align: right;\n",
       "    }\n",
       "</style>\n",
       "<table border=\"1\" class=\"dataframe\">\n",
       "  <thead>\n",
       "    <tr style=\"text-align: right;\">\n",
       "      <th></th>\n",
       "      <th>A2_Pin</th>\n",
       "      <th>OSNR</th>\n",
       "      <th>BER</th>\n",
       "      <th>Failure_Type</th>\n",
       "    </tr>\n",
       "  </thead>\n",
       "  <tbody>\n",
       "    <tr>\n",
       "      <th>0</th>\n",
       "      <td>-23.394217</td>\n",
       "      <td>23.634914</td>\n",
       "      <td>2.712458e-07</td>\n",
       "      <td>0</td>\n",
       "    </tr>\n",
       "    <tr>\n",
       "      <th>1</th>\n",
       "      <td>-25.037241</td>\n",
       "      <td>19.740160</td>\n",
       "      <td>3.837656e-05</td>\n",
       "      <td>1</td>\n",
       "    </tr>\n",
       "    <tr>\n",
       "      <th>2</th>\n",
       "      <td>-23.635969</td>\n",
       "      <td>22.995832</td>\n",
       "      <td>5.554746e-07</td>\n",
       "      <td>0</td>\n",
       "    </tr>\n",
       "    <tr>\n",
       "      <th>3</th>\n",
       "      <td>-25.842049</td>\n",
       "      <td>20.181292</td>\n",
       "      <td>1.600508e-05</td>\n",
       "      <td>5</td>\n",
       "    </tr>\n",
       "    <tr>\n",
       "      <th>4</th>\n",
       "      <td>-23.469000</td>\n",
       "      <td>23.342302</td>\n",
       "      <td>3.940071e-07</td>\n",
       "      <td>0</td>\n",
       "    </tr>\n",
       "  </tbody>\n",
       "</table>\n",
       "</div>"
      ],
      "text/plain": [
       "      A2_Pin       OSNR           BER  Failure_Type\n",
       "0 -23.394217  23.634914  2.712458e-07             0\n",
       "1 -25.037241  19.740160  3.837656e-05             1\n",
       "2 -23.635969  22.995832  5.554746e-07             0\n",
       "3 -25.842049  20.181292  1.600508e-05             5\n",
       "4 -23.469000  23.342302  3.940071e-07             0"
      ]
     },
     "execution_count": 26,
     "metadata": {},
     "output_type": "execute_result"
    }
   ],
   "source": [
    "oversampled_latent_space_decoded_descaled['Failure_Type'] = sampled_latent_space_for_multiple_iterations['Failure_Type']\n",
    "oversampled_latent_space_decoded_descaled.head()"
   ]
  },
  {
   "cell_type": "code",
   "execution_count": 27,
   "id": "593418a2",
   "metadata": {},
   "outputs": [
    {
     "data": {
      "text/plain": [
       "(21860, 4)"
      ]
     },
     "execution_count": 27,
     "metadata": {},
     "output_type": "execute_result"
    }
   ],
   "source": [
    "oversampled_latent_space_decoded_descaled.shape"
   ]
  },
  {
   "cell_type": "markdown",
   "id": "ea0d6f34",
   "metadata": {},
   "source": [
    "Saving the synthetic samples, that will be used for detection and clssification of failures."
   ]
  },
  {
   "cell_type": "code",
   "execution_count": 28,
   "id": "1cb8e541",
   "metadata": {},
   "outputs": [],
   "source": [
    "oversampled_latent_space_decoded_descaled_normal = oversampled_latent_space_decoded_descaled[oversampled_latent_space_decoded_descaled.Failure_Type == 0]\n",
    "oversampled_latent_space_decoded_descaled_normal['Alarm'] = 0\n",
    "oversampled_latent_space_decoded_descaled_failure = oversampled_latent_space_decoded_descaled[oversampled_latent_space_decoded_descaled.Failure_Type != 0]\n",
    "oversampled_latent_space_decoded_descaled_failure['Alarm'] = 1\n",
    "\n",
    "oversampled_latent_space_decoded_descaled = pd.concat([oversampled_latent_space_decoded_descaled_normal, oversampled_latent_space_decoded_descaled_failure], ignore_index=True)"
   ]
  },
  {
   "cell_type": "code",
   "execution_count": 29,
   "id": "b7f8c668",
   "metadata": {
    "scrolled": true
   },
   "outputs": [],
   "source": [
    "oversampled_latent_space_decoded_descaled.to_csv('Synthetic_Data_check2.csv' , index = False)"
   ]
  }
 ],
 "metadata": {
  "kernelspec": {
   "display_name": "Python 3 (ipykernel)",
   "language": "python",
   "name": "python3"
  },
  "language_info": {
   "codemirror_mode": {
    "name": "ipython",
    "version": 3
   },
   "file_extension": ".py",
   "mimetype": "text/x-python",
   "name": "python",
   "nbconvert_exporter": "python",
   "pygments_lexer": "ipython3",
   "version": "3.9.7"
  }
 },
 "nbformat": 4,
 "nbformat_minor": 5
}
